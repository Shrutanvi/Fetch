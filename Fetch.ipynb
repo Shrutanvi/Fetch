{
 "cells": [
  {
   "cell_type": "markdown",
   "id": "c76ce448",
   "metadata": {},
   "source": [
    "### Shrutanvi Datar"
   ]
  },
  {
   "cell_type": "code",
   "execution_count": 1,
   "id": "758a3a4e",
   "metadata": {},
   "outputs": [],
   "source": [
    "# print all the outputs in a cell\n",
    "from IPython.core.interactiveshell import InteractiveShell\n",
    "InteractiveShell.ast_node_interactivity = \"all\""
   ]
  },
  {
   "cell_type": "code",
   "execution_count": 2,
   "id": "4a120a32",
   "metadata": {},
   "outputs": [],
   "source": [
    "import pandas as pd\n",
    "import numpy as np\n",
    "import pandas as pd\n",
    "from sklearn.feature_extraction.text import TfidfVectorizer\n",
    "from sklearn.metrics.pairwise import cosine_similarity"
   ]
  },
  {
   "cell_type": "markdown",
   "id": "dd1fa9a7",
   "metadata": {},
   "source": [
    "### Exploratory Data Analysis"
   ]
  },
  {
   "cell_type": "code",
   "execution_count": 3,
   "id": "962b9485",
   "metadata": {},
   "outputs": [],
   "source": [
    "df_brand = pd.read_csv('brand_category.csv')"
   ]
  },
  {
   "cell_type": "code",
   "execution_count": 4,
   "id": "2fdff462",
   "metadata": {},
   "outputs": [
    {
     "data": {
      "text/html": [
       "<div>\n",
       "<style scoped>\n",
       "    .dataframe tbody tr th:only-of-type {\n",
       "        vertical-align: middle;\n",
       "    }\n",
       "\n",
       "    .dataframe tbody tr th {\n",
       "        vertical-align: top;\n",
       "    }\n",
       "\n",
       "    .dataframe thead th {\n",
       "        text-align: right;\n",
       "    }\n",
       "</style>\n",
       "<table border=\"1\" class=\"dataframe\">\n",
       "  <thead>\n",
       "    <tr style=\"text-align: right;\">\n",
       "      <th></th>\n",
       "      <th>BRAND</th>\n",
       "      <th>BRAND_BELONGS_TO_CATEGORY</th>\n",
       "      <th>RECEIPTS</th>\n",
       "    </tr>\n",
       "  </thead>\n",
       "  <tbody>\n",
       "    <tr>\n",
       "      <th>0</th>\n",
       "      <td>CASEYS GEN STORE</td>\n",
       "      <td>Tobacco Products</td>\n",
       "      <td>2950931</td>\n",
       "    </tr>\n",
       "    <tr>\n",
       "      <th>1</th>\n",
       "      <td>CASEYS GEN STORE</td>\n",
       "      <td>Mature</td>\n",
       "      <td>2859240</td>\n",
       "    </tr>\n",
       "    <tr>\n",
       "      <th>2</th>\n",
       "      <td>EQUATE</td>\n",
       "      <td>Hair Removal</td>\n",
       "      <td>893268</td>\n",
       "    </tr>\n",
       "    <tr>\n",
       "      <th>3</th>\n",
       "      <td>PALMOLIVE</td>\n",
       "      <td>Bath &amp; Body</td>\n",
       "      <td>542562</td>\n",
       "    </tr>\n",
       "    <tr>\n",
       "      <th>4</th>\n",
       "      <td>DAWN</td>\n",
       "      <td>Bath &amp; Body</td>\n",
       "      <td>301844</td>\n",
       "    </tr>\n",
       "  </tbody>\n",
       "</table>\n",
       "</div>"
      ],
      "text/plain": [
       "              BRAND BRAND_BELONGS_TO_CATEGORY  RECEIPTS\n",
       "0  CASEYS GEN STORE          Tobacco Products   2950931\n",
       "1  CASEYS GEN STORE                    Mature   2859240\n",
       "2            EQUATE              Hair Removal    893268\n",
       "3         PALMOLIVE               Bath & Body    542562\n",
       "4              DAWN               Bath & Body    301844"
      ]
     },
     "execution_count": 4,
     "metadata": {},
     "output_type": "execute_result"
    }
   ],
   "source": [
    "df_brand.head()"
   ]
  },
  {
   "cell_type": "code",
   "execution_count": 5,
   "id": "94b7dfc6",
   "metadata": {},
   "outputs": [
    {
     "data": {
      "text/plain": [
       "(9906, 3)"
      ]
     },
     "execution_count": 5,
     "metadata": {},
     "output_type": "execute_result"
    },
    {
     "data": {
      "text/plain": [
       "BRAND                         True\n",
       "BRAND_BELONGS_TO_CATEGORY    False\n",
       "RECEIPTS                     False\n",
       "dtype: bool"
      ]
     },
     "execution_count": 5,
     "metadata": {},
     "output_type": "execute_result"
    }
   ],
   "source": [
    "df_brand.shape\n",
    "df_brand.isna().any()"
   ]
  },
  {
   "cell_type": "code",
   "execution_count": 6,
   "id": "5fbddd8f",
   "metadata": {},
   "outputs": [
    {
     "data": {
      "text/plain": [
       "GOYA                      29\n",
       "MCALISTERS DELI           28\n",
       "KROGER                    27\n",
       "SIMPLE TRUTH              23\n",
       "CASEYS GEN STORE          19\n",
       "                          ..\n",
       "BUD LIGHT CRISP            1\n",
       "SANTA SILVANA IN VILLA     1\n",
       "BAYERN VARIETY PACK        1\n",
       "FLORIDA CANE               1\n",
       "ALTITUDE PROJECT           1\n",
       "Name: BRAND, Length: 8521, dtype: int64"
      ]
     },
     "execution_count": 6,
     "metadata": {},
     "output_type": "execute_result"
    },
    {
     "data": {
      "text/plain": [
       "8521"
      ]
     },
     "execution_count": 6,
     "metadata": {},
     "output_type": "execute_result"
    },
    {
     "data": {
      "text/plain": [
       "118"
      ]
     },
     "execution_count": 6,
     "metadata": {},
     "output_type": "execute_result"
    },
    {
     "data": {
      "text/plain": [
       "Beer              2143\n",
       "Spirits           1850\n",
       "Wine              1850\n",
       "Fruit Juices       350\n",
       "Malt Beverages     312\n",
       "                  ... \n",
       "Food Storage         1\n",
       "Cosmetic Tools       1\n",
       "Toothpaste           1\n",
       "Popcorn              1\n",
       "Sexual Health        1\n",
       "Name: BRAND_BELONGS_TO_CATEGORY, Length: 118, dtype: int64"
      ]
     },
     "execution_count": 6,
     "metadata": {},
     "output_type": "execute_result"
    }
   ],
   "source": [
    "df_brand['BRAND'].value_counts()\n",
    "df_brand['BRAND'].nunique()\n",
    "df_brand['BRAND_BELONGS_TO_CATEGORY'].nunique()\n",
    "df_brand['BRAND_BELONGS_TO_CATEGORY'].value_counts()"
   ]
  },
  {
   "cell_type": "code",
   "execution_count": 7,
   "id": "441dc1b5",
   "metadata": {},
   "outputs": [],
   "source": [
    "df_cat = pd.read_csv('categories.csv')"
   ]
  },
  {
   "cell_type": "code",
   "execution_count": 8,
   "id": "90590adf",
   "metadata": {},
   "outputs": [
    {
     "data": {
      "text/html": [
       "<div>\n",
       "<style scoped>\n",
       "    .dataframe tbody tr th:only-of-type {\n",
       "        vertical-align: middle;\n",
       "    }\n",
       "\n",
       "    .dataframe tbody tr th {\n",
       "        vertical-align: top;\n",
       "    }\n",
       "\n",
       "    .dataframe thead th {\n",
       "        text-align: right;\n",
       "    }\n",
       "</style>\n",
       "<table border=\"1\" class=\"dataframe\">\n",
       "  <thead>\n",
       "    <tr style=\"text-align: right;\">\n",
       "      <th></th>\n",
       "      <th>CATEGORY_ID</th>\n",
       "      <th>PRODUCT_CATEGORY</th>\n",
       "      <th>IS_CHILD_CATEGORY_TO</th>\n",
       "    </tr>\n",
       "  </thead>\n",
       "  <tbody>\n",
       "    <tr>\n",
       "      <th>0</th>\n",
       "      <td>1f7d2fa7-a1d7-4969-aaf4-1244f232c175</td>\n",
       "      <td>Red Pasta Sauce</td>\n",
       "      <td>Pasta Sauce</td>\n",
       "    </tr>\n",
       "    <tr>\n",
       "      <th>1</th>\n",
       "      <td>3e48a9b3-1ab2-4f2d-867d-4a30828afeab</td>\n",
       "      <td>Alfredo &amp; White Pasta Sauce</td>\n",
       "      <td>Pasta Sauce</td>\n",
       "    </tr>\n",
       "    <tr>\n",
       "      <th>2</th>\n",
       "      <td>09f3decc-aa93-460d-936c-0ddf06b055a3</td>\n",
       "      <td>Cooking &amp; Baking</td>\n",
       "      <td>Pantry</td>\n",
       "    </tr>\n",
       "    <tr>\n",
       "      <th>3</th>\n",
       "      <td>12a89b18-4c01-4048-94b2-0705e0a45f6b</td>\n",
       "      <td>Packaged Seafood</td>\n",
       "      <td>Pantry</td>\n",
       "    </tr>\n",
       "    <tr>\n",
       "      <th>4</th>\n",
       "      <td>2caa015a-ca32-4456-a086-621446238783</td>\n",
       "      <td>Feminine Hygeine</td>\n",
       "      <td>Health &amp; Wellness</td>\n",
       "    </tr>\n",
       "  </tbody>\n",
       "</table>\n",
       "</div>"
      ],
      "text/plain": [
       "                            CATEGORY_ID             PRODUCT_CATEGORY  \\\n",
       "0  1f7d2fa7-a1d7-4969-aaf4-1244f232c175              Red Pasta Sauce   \n",
       "1  3e48a9b3-1ab2-4f2d-867d-4a30828afeab  Alfredo & White Pasta Sauce   \n",
       "2  09f3decc-aa93-460d-936c-0ddf06b055a3             Cooking & Baking   \n",
       "3  12a89b18-4c01-4048-94b2-0705e0a45f6b             Packaged Seafood   \n",
       "4  2caa015a-ca32-4456-a086-621446238783             Feminine Hygeine   \n",
       "\n",
       "  IS_CHILD_CATEGORY_TO  \n",
       "0          Pasta Sauce  \n",
       "1          Pasta Sauce  \n",
       "2               Pantry  \n",
       "3               Pantry  \n",
       "4    Health & Wellness  "
      ]
     },
     "execution_count": 8,
     "metadata": {},
     "output_type": "execute_result"
    }
   ],
   "source": [
    "df_cat.head()"
   ]
  },
  {
   "cell_type": "code",
   "execution_count": 9,
   "id": "93dbfbef",
   "metadata": {},
   "outputs": [
    {
     "data": {
      "text/plain": [
       "(118, 3)"
      ]
     },
     "execution_count": 9,
     "metadata": {},
     "output_type": "execute_result"
    },
    {
     "data": {
      "text/plain": [
       "CATEGORY_ID             False\n",
       "PRODUCT_CATEGORY        False\n",
       "IS_CHILD_CATEGORY_TO    False\n",
       "dtype: bool"
      ]
     },
     "execution_count": 9,
     "metadata": {},
     "output_type": "execute_result"
    }
   ],
   "source": [
    "df_cat.shape\n",
    "df_cat.isna().any()"
   ]
  },
  {
   "cell_type": "code",
   "execution_count": 10,
   "id": "699500fd",
   "metadata": {},
   "outputs": [
    {
     "data": {
      "text/plain": [
       "118"
      ]
     },
     "execution_count": 10,
     "metadata": {},
     "output_type": "execute_result"
    },
    {
     "data": {
      "text/plain": [
       "23"
      ]
     },
     "execution_count": 10,
     "metadata": {},
     "output_type": "execute_result"
    }
   ],
   "source": [
    "df_cat['PRODUCT_CATEGORY'].nunique()\n",
    "df_cat['IS_CHILD_CATEGORY_TO'].nunique()"
   ]
  },
  {
   "cell_type": "code",
   "execution_count": 11,
   "id": "0cca07b8",
   "metadata": {},
   "outputs": [],
   "source": [
    "df_off = pd.read_csv('offer_retailer.csv')"
   ]
  },
  {
   "cell_type": "code",
   "execution_count": 12,
   "id": "11296f51",
   "metadata": {},
   "outputs": [
    {
     "data": {
      "text/html": [
       "<div>\n",
       "<style scoped>\n",
       "    .dataframe tbody tr th:only-of-type {\n",
       "        vertical-align: middle;\n",
       "    }\n",
       "\n",
       "    .dataframe tbody tr th {\n",
       "        vertical-align: top;\n",
       "    }\n",
       "\n",
       "    .dataframe thead th {\n",
       "        text-align: right;\n",
       "    }\n",
       "</style>\n",
       "<table border=\"1\" class=\"dataframe\">\n",
       "  <thead>\n",
       "    <tr style=\"text-align: right;\">\n",
       "      <th></th>\n",
       "      <th>OFFER</th>\n",
       "      <th>RETAILER</th>\n",
       "      <th>BRAND</th>\n",
       "    </tr>\n",
       "  </thead>\n",
       "  <tbody>\n",
       "    <tr>\n",
       "      <th>0</th>\n",
       "      <td>Spend $50 on a Full-Priced new Club Membership</td>\n",
       "      <td>SAMS CLUB</td>\n",
       "      <td>SAMS CLUB</td>\n",
       "    </tr>\n",
       "    <tr>\n",
       "      <th>1</th>\n",
       "      <td>Beyond Meat® Plant-Based products, spend $25</td>\n",
       "      <td>NaN</td>\n",
       "      <td>BEYOND MEAT</td>\n",
       "    </tr>\n",
       "    <tr>\n",
       "      <th>2</th>\n",
       "      <td>Good Humor Viennetta Frozen Vanilla Cake</td>\n",
       "      <td>NaN</td>\n",
       "      <td>GOOD HUMOR</td>\n",
       "    </tr>\n",
       "    <tr>\n",
       "      <th>3</th>\n",
       "      <td>Butterball, select varieties, spend $10 at Dil...</td>\n",
       "      <td>DILLONS FOOD STORE</td>\n",
       "      <td>BUTTERBALL</td>\n",
       "    </tr>\n",
       "    <tr>\n",
       "      <th>4</th>\n",
       "      <td>GATORADE® Fast Twitch®, 12-ounce 12 pack, at A...</td>\n",
       "      <td>AMAZON</td>\n",
       "      <td>GATORADE</td>\n",
       "    </tr>\n",
       "  </tbody>\n",
       "</table>\n",
       "</div>"
      ],
      "text/plain": [
       "                                               OFFER            RETAILER  \\\n",
       "0     Spend $50 on a Full-Priced new Club Membership           SAMS CLUB   \n",
       "1       Beyond Meat® Plant-Based products, spend $25                 NaN   \n",
       "2           Good Humor Viennetta Frozen Vanilla Cake                 NaN   \n",
       "3  Butterball, select varieties, spend $10 at Dil...  DILLONS FOOD STORE   \n",
       "4  GATORADE® Fast Twitch®, 12-ounce 12 pack, at A...              AMAZON   \n",
       "\n",
       "         BRAND  \n",
       "0    SAMS CLUB  \n",
       "1  BEYOND MEAT  \n",
       "2   GOOD HUMOR  \n",
       "3   BUTTERBALL  \n",
       "4     GATORADE  "
      ]
     },
     "execution_count": 12,
     "metadata": {},
     "output_type": "execute_result"
    }
   ],
   "source": [
    "df_off.head()"
   ]
  },
  {
   "cell_type": "code",
   "execution_count": 13,
   "id": "52a5c777",
   "metadata": {},
   "outputs": [
    {
     "data": {
      "text/plain": [
       "(384, 3)"
      ]
     },
     "execution_count": 13,
     "metadata": {},
     "output_type": "execute_result"
    },
    {
     "data": {
      "text/plain": [
       "OFFER       False\n",
       "RETAILER     True\n",
       "BRAND       False\n",
       "dtype: bool"
      ]
     },
     "execution_count": 13,
     "metadata": {},
     "output_type": "execute_result"
    }
   ],
   "source": [
    "df_off.shape\n",
    "df_off.isna().any()"
   ]
  },
  {
   "cell_type": "code",
   "execution_count": 14,
   "id": "7ddc21bb",
   "metadata": {},
   "outputs": [
    {
     "data": {
      "text/plain": [
       "376"
      ]
     },
     "execution_count": 14,
     "metadata": {},
     "output_type": "execute_result"
    },
    {
     "data": {
      "text/plain": [
       "61"
      ]
     },
     "execution_count": 14,
     "metadata": {},
     "output_type": "execute_result"
    },
    {
     "data": {
      "text/plain": [
       "144"
      ]
     },
     "execution_count": 14,
     "metadata": {},
     "output_type": "execute_result"
    },
    {
     "data": {
      "text/plain": [
       "CASEYS GENERAL STORE    26\n",
       "BACK TO THE ROOTS       15\n",
       "BUTTERBALL              12\n",
       "WELCHS FRUIT SNACKS     10\n",
       "BEN AND JERRYS           8\n",
       "                        ..\n",
       "5 GUM                    1\n",
       "DUREX                    1\n",
       "FRESH STEP               1\n",
       "SARA LEE ARTESANO        1\n",
       "SIMPLY ORGANIC           1\n",
       "Name: BRAND, Length: 144, dtype: int64"
      ]
     },
     "execution_count": 14,
     "metadata": {},
     "output_type": "execute_result"
    }
   ],
   "source": [
    "df_off['OFFER'].nunique()\n",
    "df_off['RETAILER'].nunique()\n",
    "df_off['BRAND'].nunique()\n",
    "df_off['BRAND'].value_counts()"
   ]
  },
  {
   "cell_type": "code",
   "execution_count": 15,
   "id": "1e6d1120",
   "metadata": {},
   "outputs": [
    {
     "data": {
      "text/html": [
       "<div>\n",
       "<style scoped>\n",
       "    .dataframe tbody tr th:only-of-type {\n",
       "        vertical-align: middle;\n",
       "    }\n",
       "\n",
       "    .dataframe tbody tr th {\n",
       "        vertical-align: top;\n",
       "    }\n",
       "\n",
       "    .dataframe thead th {\n",
       "        text-align: right;\n",
       "    }\n",
       "</style>\n",
       "<table border=\"1\" class=\"dataframe\">\n",
       "  <thead>\n",
       "    <tr style=\"text-align: right;\">\n",
       "      <th></th>\n",
       "      <th>BRAND</th>\n",
       "      <th>BRAND_BELONGS_TO_CATEGORY</th>\n",
       "      <th>RECEIPTS</th>\n",
       "      <th>OFFER</th>\n",
       "      <th>RETAILER</th>\n",
       "    </tr>\n",
       "  </thead>\n",
       "  <tbody>\n",
       "    <tr>\n",
       "      <th>0</th>\n",
       "      <td>CASEYS GEN STORE</td>\n",
       "      <td>Tobacco Products</td>\n",
       "      <td>2950931.0</td>\n",
       "      <td>NaN</td>\n",
       "      <td>NaN</td>\n",
       "    </tr>\n",
       "    <tr>\n",
       "      <th>1</th>\n",
       "      <td>CASEYS GEN STORE</td>\n",
       "      <td>Mature</td>\n",
       "      <td>2859240.0</td>\n",
       "      <td>NaN</td>\n",
       "      <td>NaN</td>\n",
       "    </tr>\n",
       "    <tr>\n",
       "      <th>2</th>\n",
       "      <td>CASEYS GEN STORE</td>\n",
       "      <td>Candy</td>\n",
       "      <td>18755.0</td>\n",
       "      <td>NaN</td>\n",
       "      <td>NaN</td>\n",
       "    </tr>\n",
       "    <tr>\n",
       "      <th>3</th>\n",
       "      <td>CASEYS GEN STORE</td>\n",
       "      <td>Energy Drinks</td>\n",
       "      <td>15351.0</td>\n",
       "      <td>NaN</td>\n",
       "      <td>NaN</td>\n",
       "    </tr>\n",
       "    <tr>\n",
       "      <th>4</th>\n",
       "      <td>CASEYS GEN STORE</td>\n",
       "      <td>Cookies</td>\n",
       "      <td>12766.0</td>\n",
       "      <td>NaN</td>\n",
       "      <td>NaN</td>\n",
       "    </tr>\n",
       "  </tbody>\n",
       "</table>\n",
       "</div>"
      ],
      "text/plain": [
       "              BRAND BRAND_BELONGS_TO_CATEGORY   RECEIPTS OFFER RETAILER\n",
       "0  CASEYS GEN STORE          Tobacco Products  2950931.0   NaN      NaN\n",
       "1  CASEYS GEN STORE                    Mature  2859240.0   NaN      NaN\n",
       "2  CASEYS GEN STORE                     Candy    18755.0   NaN      NaN\n",
       "3  CASEYS GEN STORE             Energy Drinks    15351.0   NaN      NaN\n",
       "4  CASEYS GEN STORE                   Cookies    12766.0   NaN      NaN"
      ]
     },
     "execution_count": 15,
     "metadata": {},
     "output_type": "execute_result"
    },
    {
     "data": {
      "text/plain": [
       "(10426, 5)"
      ]
     },
     "execution_count": 15,
     "metadata": {},
     "output_type": "execute_result"
    }
   ],
   "source": [
    "#Merging the data\n",
    "merged_1 = pd.merge(df_brand, df_off, on='BRAND', how='outer')\n",
    "merged_1.head()\n",
    "merged_1.shape"
   ]
  },
  {
   "cell_type": "code",
   "execution_count": 16,
   "id": "42fdbf9c",
   "metadata": {},
   "outputs": [
    {
     "data": {
      "text/html": [
       "<div>\n",
       "<style scoped>\n",
       "    .dataframe tbody tr th:only-of-type {\n",
       "        vertical-align: middle;\n",
       "    }\n",
       "\n",
       "    .dataframe tbody tr th {\n",
       "        vertical-align: top;\n",
       "    }\n",
       "\n",
       "    .dataframe thead th {\n",
       "        text-align: right;\n",
       "    }\n",
       "</style>\n",
       "<table border=\"1\" class=\"dataframe\">\n",
       "  <thead>\n",
       "    <tr style=\"text-align: right;\">\n",
       "      <th></th>\n",
       "      <th>BRAND</th>\n",
       "      <th>BRAND_BELONGS_TO_CATEGORY</th>\n",
       "      <th>RECEIPTS</th>\n",
       "      <th>OFFER</th>\n",
       "      <th>RETAILER</th>\n",
       "      <th>CATEGORY_ID</th>\n",
       "      <th>PRODUCT_CATEGORY</th>\n",
       "      <th>IS_CHILD_CATEGORY_TO</th>\n",
       "    </tr>\n",
       "  </thead>\n",
       "  <tbody>\n",
       "    <tr>\n",
       "      <th>0</th>\n",
       "      <td>CASEYS GEN STORE</td>\n",
       "      <td>Tobacco Products</td>\n",
       "      <td>2950931.0</td>\n",
       "      <td>NaN</td>\n",
       "      <td>NaN</td>\n",
       "      <td>4442fa51-d4b7-4d56-ad7c-d18cfd2aff84</td>\n",
       "      <td>Tobacco Products</td>\n",
       "      <td>Mature</td>\n",
       "    </tr>\n",
       "    <tr>\n",
       "      <th>1</th>\n",
       "      <td>RJ REYNOLDS VAPOR</td>\n",
       "      <td>Tobacco Products</td>\n",
       "      <td>21.0</td>\n",
       "      <td>NaN</td>\n",
       "      <td>NaN</td>\n",
       "      <td>4442fa51-d4b7-4d56-ad7c-d18cfd2aff84</td>\n",
       "      <td>Tobacco Products</td>\n",
       "      <td>Mature</td>\n",
       "    </tr>\n",
       "    <tr>\n",
       "      <th>2</th>\n",
       "      <td>CASEYS GEN STORE</td>\n",
       "      <td>Mature</td>\n",
       "      <td>2859240.0</td>\n",
       "      <td>NaN</td>\n",
       "      <td>NaN</td>\n",
       "      <td>f81d7064-52da-4bd7-98eb-7a14be267720</td>\n",
       "      <td>Mature</td>\n",
       "      <td>Mature</td>\n",
       "    </tr>\n",
       "    <tr>\n",
       "      <th>3</th>\n",
       "      <td>CASEYS GEN STORE</td>\n",
       "      <td>Candy</td>\n",
       "      <td>18755.0</td>\n",
       "      <td>NaN</td>\n",
       "      <td>NaN</td>\n",
       "      <td>1e63bbb5-d0b8-4dca-9eb1-121967de8dc8</td>\n",
       "      <td>Candy</td>\n",
       "      <td>Snacks</td>\n",
       "    </tr>\n",
       "    <tr>\n",
       "      <th>4</th>\n",
       "      <td>STARBUCKS</td>\n",
       "      <td>Candy</td>\n",
       "      <td>1019.0</td>\n",
       "      <td>NaN</td>\n",
       "      <td>NaN</td>\n",
       "      <td>1e63bbb5-d0b8-4dca-9eb1-121967de8dc8</td>\n",
       "      <td>Candy</td>\n",
       "      <td>Snacks</td>\n",
       "    </tr>\n",
       "  </tbody>\n",
       "</table>\n",
       "</div>"
      ],
      "text/plain": [
       "               BRAND BRAND_BELONGS_TO_CATEGORY   RECEIPTS OFFER RETAILER  \\\n",
       "0   CASEYS GEN STORE          Tobacco Products  2950931.0   NaN      NaN   \n",
       "1  RJ REYNOLDS VAPOR          Tobacco Products       21.0   NaN      NaN   \n",
       "2   CASEYS GEN STORE                    Mature  2859240.0   NaN      NaN   \n",
       "3   CASEYS GEN STORE                     Candy    18755.0   NaN      NaN   \n",
       "4          STARBUCKS                     Candy     1019.0   NaN      NaN   \n",
       "\n",
       "                            CATEGORY_ID  PRODUCT_CATEGORY IS_CHILD_CATEGORY_TO  \n",
       "0  4442fa51-d4b7-4d56-ad7c-d18cfd2aff84  Tobacco Products               Mature  \n",
       "1  4442fa51-d4b7-4d56-ad7c-d18cfd2aff84  Tobacco Products               Mature  \n",
       "2  f81d7064-52da-4bd7-98eb-7a14be267720            Mature               Mature  \n",
       "3  1e63bbb5-d0b8-4dca-9eb1-121967de8dc8             Candy               Snacks  \n",
       "4  1e63bbb5-d0b8-4dca-9eb1-121967de8dc8             Candy               Snacks  "
      ]
     },
     "execution_count": 16,
     "metadata": {},
     "output_type": "execute_result"
    },
    {
     "data": {
      "text/plain": [
       "(10426, 8)"
      ]
     },
     "execution_count": 16,
     "metadata": {},
     "output_type": "execute_result"
    }
   ],
   "source": [
    "df_merged = pd.merge(merged_1, df_cat, left_on='BRAND_BELONGS_TO_CATEGORY', right_on='PRODUCT_CATEGORY', how='outer')\n",
    "df_merged.head()\n",
    "df_merged.shape"
   ]
  },
  {
   "cell_type": "markdown",
   "id": "cdf51b79",
   "metadata": {},
   "source": [
    "### Data Cleaning"
   ]
  },
  {
   "cell_type": "code",
   "execution_count": 17,
   "id": "a219799b",
   "metadata": {},
   "outputs": [],
   "source": [
    "df_merged.drop(columns=['CATEGORY_ID', 'RECEIPTS'], inplace=True)"
   ]
  },
  {
   "cell_type": "code",
   "execution_count": 18,
   "id": "ca79fbc4",
   "metadata": {},
   "outputs": [
    {
     "data": {
      "text/html": [
       "<div>\n",
       "<style scoped>\n",
       "    .dataframe tbody tr th:only-of-type {\n",
       "        vertical-align: middle;\n",
       "    }\n",
       "\n",
       "    .dataframe tbody tr th {\n",
       "        vertical-align: top;\n",
       "    }\n",
       "\n",
       "    .dataframe thead th {\n",
       "        text-align: right;\n",
       "    }\n",
       "</style>\n",
       "<table border=\"1\" class=\"dataframe\">\n",
       "  <thead>\n",
       "    <tr style=\"text-align: right;\">\n",
       "      <th></th>\n",
       "      <th>BRAND</th>\n",
       "      <th>BRAND_BELONGS_TO_CATEGORY</th>\n",
       "      <th>OFFER</th>\n",
       "      <th>RETAILER</th>\n",
       "      <th>PRODUCT_CATEGORY</th>\n",
       "      <th>IS_CHILD_CATEGORY_TO</th>\n",
       "    </tr>\n",
       "  </thead>\n",
       "  <tbody>\n",
       "    <tr>\n",
       "      <th>0</th>\n",
       "      <td>CASEYS GEN STORE</td>\n",
       "      <td>Tobacco Products</td>\n",
       "      <td>NaN</td>\n",
       "      <td>NaN</td>\n",
       "      <td>Tobacco Products</td>\n",
       "      <td>Mature</td>\n",
       "    </tr>\n",
       "    <tr>\n",
       "      <th>1</th>\n",
       "      <td>RJ REYNOLDS VAPOR</td>\n",
       "      <td>Tobacco Products</td>\n",
       "      <td>NaN</td>\n",
       "      <td>NaN</td>\n",
       "      <td>Tobacco Products</td>\n",
       "      <td>Mature</td>\n",
       "    </tr>\n",
       "    <tr>\n",
       "      <th>2</th>\n",
       "      <td>CASEYS GEN STORE</td>\n",
       "      <td>Mature</td>\n",
       "      <td>NaN</td>\n",
       "      <td>NaN</td>\n",
       "      <td>Mature</td>\n",
       "      <td>Mature</td>\n",
       "    </tr>\n",
       "    <tr>\n",
       "      <th>3</th>\n",
       "      <td>CASEYS GEN STORE</td>\n",
       "      <td>Candy</td>\n",
       "      <td>NaN</td>\n",
       "      <td>NaN</td>\n",
       "      <td>Candy</td>\n",
       "      <td>Snacks</td>\n",
       "    </tr>\n",
       "    <tr>\n",
       "      <th>4</th>\n",
       "      <td>STARBUCKS</td>\n",
       "      <td>Candy</td>\n",
       "      <td>NaN</td>\n",
       "      <td>NaN</td>\n",
       "      <td>Candy</td>\n",
       "      <td>Snacks</td>\n",
       "    </tr>\n",
       "  </tbody>\n",
       "</table>\n",
       "</div>"
      ],
      "text/plain": [
       "               BRAND BRAND_BELONGS_TO_CATEGORY OFFER RETAILER  \\\n",
       "0   CASEYS GEN STORE          Tobacco Products   NaN      NaN   \n",
       "1  RJ REYNOLDS VAPOR          Tobacco Products   NaN      NaN   \n",
       "2   CASEYS GEN STORE                    Mature   NaN      NaN   \n",
       "3   CASEYS GEN STORE                     Candy   NaN      NaN   \n",
       "4          STARBUCKS                     Candy   NaN      NaN   \n",
       "\n",
       "   PRODUCT_CATEGORY IS_CHILD_CATEGORY_TO  \n",
       "0  Tobacco Products               Mature  \n",
       "1  Tobacco Products               Mature  \n",
       "2            Mature               Mature  \n",
       "3             Candy               Snacks  \n",
       "4             Candy               Snacks  "
      ]
     },
     "execution_count": 18,
     "metadata": {},
     "output_type": "execute_result"
    }
   ],
   "source": [
    "df_merged.head()"
   ]
  },
  {
   "cell_type": "code",
   "execution_count": 19,
   "id": "bc4e54af",
   "metadata": {},
   "outputs": [],
   "source": [
    "df_merged.dropna(subset=['OFFER'], inplace=True)"
   ]
  },
  {
   "cell_type": "code",
   "execution_count": 20,
   "id": "ad2ef27c",
   "metadata": {},
   "outputs": [
    {
     "data": {
      "text/html": [
       "<div>\n",
       "<style scoped>\n",
       "    .dataframe tbody tr th:only-of-type {\n",
       "        vertical-align: middle;\n",
       "    }\n",
       "\n",
       "    .dataframe tbody tr th {\n",
       "        vertical-align: top;\n",
       "    }\n",
       "\n",
       "    .dataframe thead th {\n",
       "        text-align: right;\n",
       "    }\n",
       "</style>\n",
       "<table border=\"1\" class=\"dataframe\">\n",
       "  <thead>\n",
       "    <tr style=\"text-align: right;\">\n",
       "      <th></th>\n",
       "      <th>BRAND</th>\n",
       "      <th>BRAND_BELONGS_TO_CATEGORY</th>\n",
       "      <th>OFFER</th>\n",
       "      <th>RETAILER</th>\n",
       "      <th>PRODUCT_CATEGORY</th>\n",
       "      <th>IS_CHILD_CATEGORY_TO</th>\n",
       "    </tr>\n",
       "  </thead>\n",
       "  <tbody>\n",
       "    <tr>\n",
       "      <th>7</th>\n",
       "      <td>M&amp;MS</td>\n",
       "      <td>Candy</td>\n",
       "      <td>M&amp;M'S®, select sizes, buy 1</td>\n",
       "      <td>NaN</td>\n",
       "      <td>Candy</td>\n",
       "      <td>Snacks</td>\n",
       "    </tr>\n",
       "    <tr>\n",
       "      <th>8</th>\n",
       "      <td>M&amp;MS</td>\n",
       "      <td>Candy</td>\n",
       "      <td>M&amp;M'S® chocolate candies, select varieties</td>\n",
       "      <td>NaN</td>\n",
       "      <td>Candy</td>\n",
       "      <td>Snacks</td>\n",
       "    </tr>\n",
       "    <tr>\n",
       "      <th>9</th>\n",
       "      <td>MCALISTERS DELI</td>\n",
       "      <td>Candy</td>\n",
       "      <td>Sign up for McAlister's Deli Rewards, tap for ...</td>\n",
       "      <td>MCALISTERS DELI</td>\n",
       "      <td>Candy</td>\n",
       "      <td>Snacks</td>\n",
       "    </tr>\n",
       "    <tr>\n",
       "      <th>11</th>\n",
       "      <td>SNICKERS</td>\n",
       "      <td>Candy</td>\n",
       "      <td>SNICKERS®, select sizes, buy 1</td>\n",
       "      <td>NaN</td>\n",
       "      <td>Candy</td>\n",
       "      <td>Snacks</td>\n",
       "    </tr>\n",
       "    <tr>\n",
       "      <th>12</th>\n",
       "      <td>SNICKERS</td>\n",
       "      <td>Candy</td>\n",
       "      <td>SNICKERS® chocolate candy bar, select varieties</td>\n",
       "      <td>NaN</td>\n",
       "      <td>Candy</td>\n",
       "      <td>Snacks</td>\n",
       "    </tr>\n",
       "  </tbody>\n",
       "</table>\n",
       "</div>"
      ],
      "text/plain": [
       "              BRAND BRAND_BELONGS_TO_CATEGORY  \\\n",
       "7              M&MS                     Candy   \n",
       "8              M&MS                     Candy   \n",
       "9   MCALISTERS DELI                     Candy   \n",
       "11         SNICKERS                     Candy   \n",
       "12         SNICKERS                     Candy   \n",
       "\n",
       "                                                OFFER         RETAILER  \\\n",
       "7                         M&M'S®, select sizes, buy 1              NaN   \n",
       "8          M&M'S® chocolate candies, select varieties              NaN   \n",
       "9   Sign up for McAlister's Deli Rewards, tap for ...  MCALISTERS DELI   \n",
       "11                     SNICKERS®, select sizes, buy 1              NaN   \n",
       "12    SNICKERS® chocolate candy bar, select varieties              NaN   \n",
       "\n",
       "   PRODUCT_CATEGORY IS_CHILD_CATEGORY_TO  \n",
       "7             Candy               Snacks  \n",
       "8             Candy               Snacks  \n",
       "9             Candy               Snacks  \n",
       "11            Candy               Snacks  \n",
       "12            Candy               Snacks  "
      ]
     },
     "execution_count": 20,
     "metadata": {},
     "output_type": "execute_result"
    },
    {
     "data": {
      "text/plain": [
       "(826, 6)"
      ]
     },
     "execution_count": 20,
     "metadata": {},
     "output_type": "execute_result"
    }
   ],
   "source": [
    "df_merged.head()\n",
    "df_merged.shape"
   ]
  },
  {
   "cell_type": "code",
   "execution_count": 21,
   "id": "b25dd1c3",
   "metadata": {},
   "outputs": [
    {
     "data": {
      "text/plain": [
       "BRAND                        False\n",
       "BRAND_BELONGS_TO_CATEGORY     True\n",
       "OFFER                        False\n",
       "RETAILER                      True\n",
       "PRODUCT_CATEGORY              True\n",
       "IS_CHILD_CATEGORY_TO          True\n",
       "dtype: bool"
      ]
     },
     "execution_count": 21,
     "metadata": {},
     "output_type": "execute_result"
    }
   ],
   "source": [
    "df_merged.isna().any()"
   ]
  },
  {
   "cell_type": "code",
   "execution_count": 22,
   "id": "d9fd7b11",
   "metadata": {},
   "outputs": [],
   "source": [
    "df_merged['OFFER'] = df_merged.OFFER.str.replace('®', '')"
   ]
  },
  {
   "cell_type": "code",
   "execution_count": 24,
   "id": "f14a256a",
   "metadata": {},
   "outputs": [
    {
     "data": {
      "text/html": [
       "<div>\n",
       "<style scoped>\n",
       "    .dataframe tbody tr th:only-of-type {\n",
       "        vertical-align: middle;\n",
       "    }\n",
       "\n",
       "    .dataframe tbody tr th {\n",
       "        vertical-align: top;\n",
       "    }\n",
       "\n",
       "    .dataframe thead th {\n",
       "        text-align: right;\n",
       "    }\n",
       "</style>\n",
       "<table border=\"1\" class=\"dataframe\">\n",
       "  <thead>\n",
       "    <tr style=\"text-align: right;\">\n",
       "      <th></th>\n",
       "      <th>BRAND</th>\n",
       "      <th>BRAND_BELONGS_TO_CATEGORY</th>\n",
       "      <th>OFFER</th>\n",
       "      <th>RETAILER</th>\n",
       "      <th>PRODUCT_CATEGORY</th>\n",
       "      <th>IS_CHILD_CATEGORY_TO</th>\n",
       "    </tr>\n",
       "  </thead>\n",
       "  <tbody>\n",
       "    <tr>\n",
       "      <th>7</th>\n",
       "      <td>M&amp;MS</td>\n",
       "      <td>Candy</td>\n",
       "      <td>M&amp;M'S, select sizes, buy 1</td>\n",
       "      <td>NaN</td>\n",
       "      <td>Candy</td>\n",
       "      <td>Snacks</td>\n",
       "    </tr>\n",
       "    <tr>\n",
       "      <th>8</th>\n",
       "      <td>M&amp;MS</td>\n",
       "      <td>Candy</td>\n",
       "      <td>M&amp;M'S chocolate candies, select varieties</td>\n",
       "      <td>NaN</td>\n",
       "      <td>Candy</td>\n",
       "      <td>Snacks</td>\n",
       "    </tr>\n",
       "    <tr>\n",
       "      <th>9</th>\n",
       "      <td>MCALISTERS DELI</td>\n",
       "      <td>Candy</td>\n",
       "      <td>Sign up for McAlister's Deli Rewards, tap for ...</td>\n",
       "      <td>MCALISTERS DELI</td>\n",
       "      <td>Candy</td>\n",
       "      <td>Snacks</td>\n",
       "    </tr>\n",
       "    <tr>\n",
       "      <th>11</th>\n",
       "      <td>SNICKERS</td>\n",
       "      <td>Candy</td>\n",
       "      <td>SNICKERS, select sizes, buy 1</td>\n",
       "      <td>NaN</td>\n",
       "      <td>Candy</td>\n",
       "      <td>Snacks</td>\n",
       "    </tr>\n",
       "    <tr>\n",
       "      <th>12</th>\n",
       "      <td>SNICKERS</td>\n",
       "      <td>Candy</td>\n",
       "      <td>SNICKERS chocolate candy bar, select varieties</td>\n",
       "      <td>NaN</td>\n",
       "      <td>Candy</td>\n",
       "      <td>Snacks</td>\n",
       "    </tr>\n",
       "  </tbody>\n",
       "</table>\n",
       "</div>"
      ],
      "text/plain": [
       "              BRAND BRAND_BELONGS_TO_CATEGORY  \\\n",
       "7              M&MS                     Candy   \n",
       "8              M&MS                     Candy   \n",
       "9   MCALISTERS DELI                     Candy   \n",
       "11         SNICKERS                     Candy   \n",
       "12         SNICKERS                     Candy   \n",
       "\n",
       "                                                OFFER         RETAILER  \\\n",
       "7                          M&M'S, select sizes, buy 1              NaN   \n",
       "8           M&M'S chocolate candies, select varieties              NaN   \n",
       "9   Sign up for McAlister's Deli Rewards, tap for ...  MCALISTERS DELI   \n",
       "11                      SNICKERS, select sizes, buy 1              NaN   \n",
       "12     SNICKERS chocolate candy bar, select varieties              NaN   \n",
       "\n",
       "   PRODUCT_CATEGORY IS_CHILD_CATEGORY_TO  \n",
       "7             Candy               Snacks  \n",
       "8             Candy               Snacks  \n",
       "9             Candy               Snacks  \n",
       "11            Candy               Snacks  \n",
       "12            Candy               Snacks  "
      ]
     },
     "execution_count": 24,
     "metadata": {},
     "output_type": "execute_result"
    }
   ],
   "source": [
    "df_merged.head()"
   ]
  },
  {
   "cell_type": "code",
   "execution_count": 25,
   "id": "7ac01313",
   "metadata": {
    "scrolled": true
   },
   "outputs": [
    {
     "data": {
      "text/plain": [
       "BRAND                        False\n",
       "BRAND_BELONGS_TO_CATEGORY     True\n",
       "OFFER                        False\n",
       "RETAILER                      True\n",
       "PRODUCT_CATEGORY              True\n",
       "IS_CHILD_CATEGORY_TO          True\n",
       "dtype: bool"
      ]
     },
     "execution_count": 25,
     "metadata": {},
     "output_type": "execute_result"
    }
   ],
   "source": [
    "df_merged.isna().any()"
   ]
  },
  {
   "cell_type": "code",
   "execution_count": 26,
   "id": "62a8358a",
   "metadata": {},
   "outputs": [],
   "source": [
    "df_merged.fillna(value='None', inplace=True)"
   ]
  },
  {
   "cell_type": "code",
   "execution_count": 27,
   "id": "b8e6743c",
   "metadata": {},
   "outputs": [
    {
     "data": {
      "text/plain": [
       "BRAND                        False\n",
       "BRAND_BELONGS_TO_CATEGORY    False\n",
       "OFFER                        False\n",
       "RETAILER                     False\n",
       "PRODUCT_CATEGORY             False\n",
       "IS_CHILD_CATEGORY_TO         False\n",
       "dtype: bool"
      ]
     },
     "execution_count": 27,
     "metadata": {},
     "output_type": "execute_result"
    }
   ],
   "source": [
    "df_merged.isna().any()"
   ]
  },
  {
   "cell_type": "markdown",
   "id": "47a3128b",
   "metadata": {},
   "source": [
    "## Model Creation"
   ]
  },
  {
   "cell_type": "markdown",
   "id": "30bb558b",
   "metadata": {},
   "source": [
    "### Searching for just offers column"
   ]
  },
  {
   "cell_type": "code",
   "execution_count": 30,
   "id": "be2f4fad",
   "metadata": {},
   "outputs": [],
   "source": [
    "df_merged['OFFER'] = df_merged['OFFER'].apply(lambda x: x.lower().strip())"
   ]
  },
  {
   "cell_type": "code",
   "execution_count": 31,
   "id": "c16a5a04",
   "metadata": {},
   "outputs": [
    {
     "name": "stdout",
     "output_type": "stream",
     "text": [
      "                                                   OFFER  \\\n",
      "633    fresh bakery products at casey's, select varie...   \n",
      "10199  fresh bakery products at casey's, select varie...   \n",
      "625      fresh bakery item, select varieties, at casey's   \n",
      "10203   fresh bakery items, select varieties, at casey's   \n",
      "10191    fresh bakery item, select varieties, at casey's   \n",
      "\n",
      "                   RETAILER                 BRAND  SIMILARITY_SCORE  \n",
      "633    CASEYS GENERAL STORE  CASEYS GENERAL STORE          0.596828  \n",
      "10199  CASEYS GENERAL STORE  CASEYS GENERAL STORE          0.596828  \n",
      "625    CASEYS GENERAL STORE  CASEYS GENERAL STORE          0.534305  \n",
      "10203  CASEYS GENERAL STORE  CASEYS GENERAL STORE          0.534305  \n",
      "10191  CASEYS GENERAL STORE  CASEYS GENERAL STORE          0.534305  \n"
     ]
    }
   ],
   "source": [
    "# Vectorization using TF-IDF\n",
    "vectorizer = TfidfVectorizer(stop_words=\"english\")\n",
    "offer_vectors = vectorizer.fit_transform(df_merged[\"OFFER\"])\n",
    "\n",
    "# Step 3: Model Building\n",
    "# Choose a user query\n",
    "user_query = \"Bakery\"\n",
    "\n",
    "# Vectorize the user query\n",
    "user_query_vector = vectorizer.transform([user_query])\n",
    "\n",
    "# Calculate cosine similarity\n",
    "similarities = cosine_similarity(user_query_vector, offer_vectors).flatten()\n",
    "\n",
    "# Add similarity scores to the dataframe\n",
    "df_merged[\"SIMILARITY_SCORE\"] = similarities\n",
    "\n",
    "# Step 4: Deployment\n",
    "# Display relevant offers and scores\n",
    "result_df = df_merged.sort_values(by=\"SIMILARITY_SCORE\", ascending=False)[[\"OFFER\", \"RETAILER\", \"BRAND\", \"SIMILARITY_SCORE\"]]\n",
    "print(result_df.head())\n"
   ]
  },
  {
   "cell_type": "markdown",
   "id": "60ef8417",
   "metadata": {},
   "source": [
    "### Searching for all the columns"
   ]
  },
  {
   "cell_type": "code",
   "execution_count": 32,
   "id": "9c1a8346",
   "metadata": {},
   "outputs": [],
   "source": [
    "# Vectorization using TF-IDF\n",
    "vectorizer = TfidfVectorizer(stop_words=\"english\")\n",
    "offer_vectors = vectorizer.fit_transform(df_merged[\"OFFER\"])"
   ]
  },
  {
   "cell_type": "markdown",
   "id": "52ff114d",
   "metadata": {},
   "source": [
    "#### Diapers"
   ]
  },
  {
   "cell_type": "code",
   "execution_count": 41,
   "id": "2aff4825",
   "metadata": {},
   "outputs": [],
   "source": [
    "# Step 3: Model Building\n",
    "# Choose a user query\n",
    "user_query = \"Diaper\"\n",
    "\n",
    "# Vectorize the user query\n",
    "user_query_vector = vectorizer.transform([user_query])\n",
    "\n",
    "# Calculate cosine similarity for each column\n",
    "similarity_dict = {}\n",
    "columns_to_search = [\"BRAND\", \"BRAND_BELONGS_TO_CATEGORY\", \"OFFER\", \"RETAILER\", \"PRODUCT_CATEGORY\", \"IS_CHILD_CATEGORY_TO\"]\n",
    "\n",
    "for column in columns_to_search:\n",
    "    # Vectorize the column text\n",
    "    column_text = df_merged[column].apply(lambda x: \" \".join(str(x).lower().split()))\n",
    "    column_vector = vectorizer.transform(column_text)\n",
    "\n",
    "    # Calculate cosine similarity\n",
    "    similarities = cosine_similarity(user_query_vector, column_vector).flatten()\n",
    "    similarity_dict[column] = similarities"
   ]
  },
  {
   "cell_type": "code",
   "execution_count": 42,
   "id": "b136412d",
   "metadata": {},
   "outputs": [
    {
     "name": "stdout",
     "output_type": "stream",
     "text": [
      "                                                  OFFER  \\\n",
      "7                            m&m's, select sizes, buy 1   \n",
      "9451                     goya adobo seasoning, 8 ounce+   \n",
      "9435   hellmann's | best foods vegan dressing or spread   \n",
      "9437  any general mills™ products, buy 2\\ngood rewar...   \n",
      "9438  general mills™ products, select brands, spend $35   \n",
      "\n",
      "      OVERALL_SIMILARITY_SCORE  \n",
      "7                          0.0  \n",
      "9451                       0.0  \n",
      "9435                       0.0  \n",
      "9437                       0.0  \n",
      "9438                       0.0  \n"
     ]
    }
   ],
   "source": [
    "# Aggregate similarity scores across all columns\n",
    "df_merged[\"OVERALL_SIMILARITY_SCORE\"] = sum(similarity_dict.values())\n",
    "\n",
    "# Display the results\n",
    "result_df = df_merged.sort_values(by=\"OVERALL_SIMILARITY_SCORE\", ascending=False)\n",
    "print(result_df[[\"OFFER\", \"OVERALL_SIMILARITY_SCORE\"]].head())"
   ]
  },
  {
   "cell_type": "markdown",
   "id": "864e2e8b",
   "metadata": {},
   "source": [
    "#### Huggies"
   ]
  },
  {
   "cell_type": "code",
   "execution_count": 45,
   "id": "9273d058",
   "metadata": {},
   "outputs": [],
   "source": [
    "# Step 3: Model Building\n",
    "# Choose a user query\n",
    "user_query = \"Huggies\"\n",
    "\n",
    "# Vectorize the user query\n",
    "user_query_vector = vectorizer.transform([user_query])\n",
    "\n",
    "# Calculate cosine similarity for each column\n",
    "similarity_dict = {}\n",
    "columns_to_search = [\"BRAND\", \"BRAND_BELONGS_TO_CATEGORY\", \"OFFER\", \"RETAILER\", \"PRODUCT_CATEGORY\", \"IS_CHILD_CATEGORY_TO\"]\n",
    "\n",
    "for column in columns_to_search:\n",
    "    # Vectorize the column text\n",
    "    column_text = df_merged[column].apply(lambda x: \" \".join(str(x).lower().split()))\n",
    "    column_vector = vectorizer.transform(column_text)\n",
    "\n",
    "    # Calculate cosine similarity\n",
    "    similarities = cosine_similarity(user_query_vector, column_vector).flatten()\n",
    "    similarity_dict[column] = similarities"
   ]
  },
  {
   "cell_type": "code",
   "execution_count": 46,
   "id": "84f7102e",
   "metadata": {},
   "outputs": [
    {
     "name": "stdout",
     "output_type": "stream",
     "text": [
      "                                                  OFFER  \\\n",
      "7                            m&m's, select sizes, buy 1   \n",
      "9451                     goya adobo seasoning, 8 ounce+   \n",
      "9435   hellmann's | best foods vegan dressing or spread   \n",
      "9437  any general mills™ products, buy 2\\ngood rewar...   \n",
      "9438  general mills™ products, select brands, spend $35   \n",
      "\n",
      "      OVERALL_SIMILARITY_SCORE  \n",
      "7                          0.0  \n",
      "9451                       0.0  \n",
      "9435                       0.0  \n",
      "9437                       0.0  \n",
      "9438                       0.0  \n"
     ]
    }
   ],
   "source": [
    "# Aggregate similarity scores across all columns\n",
    "df_merged[\"OVERALL_SIMILARITY_SCORE\"] = sum(similarity_dict.values())\n",
    "\n",
    "# Display the results\n",
    "result_df = df_merged.sort_values(by=\"OVERALL_SIMILARITY_SCORE\", ascending=False)\n",
    "print(result_df[[\"OFFER\", \"OVERALL_SIMILARITY_SCORE\"]].head())"
   ]
  },
  {
   "cell_type": "markdown",
   "id": "6bbe9121",
   "metadata": {},
   "source": [
    "#### Target"
   ]
  },
  {
   "cell_type": "code",
   "execution_count": 47,
   "id": "8a0535c9",
   "metadata": {},
   "outputs": [],
   "source": [
    "# Step 3: Model Building\n",
    "# Choose a user query\n",
    "user_query = \"Target\"\n",
    "\n",
    "# Vectorize the user query\n",
    "user_query_vector = vectorizer.transform([user_query])\n",
    "\n",
    "# Calculate cosine similarity for each column\n",
    "similarity_dict = {}\n",
    "columns_to_search = [\"BRAND\", \"BRAND_BELONGS_TO_CATEGORY\", \"OFFER\", \"RETAILER\", \"PRODUCT_CATEGORY\", \"IS_CHILD_CATEGORY_TO\"]\n",
    "\n",
    "for column in columns_to_search:\n",
    "    # Vectorize the column text\n",
    "    column_text = df_merged[column].apply(lambda x: \" \".join(str(x).lower().split()))\n",
    "    column_vector = vectorizer.transform(column_text)\n",
    "\n",
    "    # Calculate cosine similarity\n",
    "    similarities = cosine_similarity(user_query_vector, column_vector).flatten()\n",
    "    similarity_dict[column] = similarities"
   ]
  },
  {
   "cell_type": "code",
   "execution_count": 48,
   "id": "19b87723",
   "metadata": {},
   "outputs": [
    {
     "name": "stdout",
     "output_type": "stream",
     "text": [
      "                                            OFFER  OVERALL_SIMILARITY_SCORE\n",
      "10417                            arber, at target                  1.540476\n",
      "4843   dove hand wash, select varieties at target                  1.390421\n",
      "8709   dove hand wash, select varieties at target                  1.390421\n",
      "3833   dove hand wash, select varieties at target                  1.390421\n",
      "8908   dove hand wash, select varieties at target                  1.390421\n"
     ]
    }
   ],
   "source": [
    "# Aggregate similarity scores across all columns\n",
    "df_merged[\"OVERALL_SIMILARITY_SCORE\"] = sum(similarity_dict.values())\n",
    "\n",
    "# Display the results\n",
    "result_df = df_merged.sort_values(by=\"OVERALL_SIMILARITY_SCORE\", ascending=False)\n",
    "print(result_df[[\"OFFER\", \"OVERALL_SIMILARITY_SCORE\"]].head())"
   ]
  },
  {
   "cell_type": "code",
   "execution_count": null,
   "id": "0e4feb15",
   "metadata": {},
   "outputs": [],
   "source": []
  }
 ],
 "metadata": {
  "kernelspec": {
   "display_name": "Python 3 (ipykernel)",
   "language": "python",
   "name": "python3"
  },
  "language_info": {
   "codemirror_mode": {
    "name": "ipython",
    "version": 3
   },
   "file_extension": ".py",
   "mimetype": "text/x-python",
   "name": "python",
   "nbconvert_exporter": "python",
   "pygments_lexer": "ipython3",
   "version": "3.10.10"
  }
 },
 "nbformat": 4,
 "nbformat_minor": 5
}
